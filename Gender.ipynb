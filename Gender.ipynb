{
 "cells": [
  {
   "cell_type": "code",
   "execution_count": 8,
   "id": "0e2b3263-c831-404c-9b95-4bee057e10a6",
   "metadata": {},
   "outputs": [],
   "source": [
    "import pandas as pd\n",
    "import numpy as np\n",
    "from sklearn.metrics import mean_squared_error\n",
    "from sklearn.model_selection import train_test_split\n",
    "import ast"
   ]
  },
  {
   "cell_type": "code",
   "execution_count": 9,
   "id": "280b26e5-cfd7-4717-856a-1e9ccb190643",
   "metadata": {},
   "outputs": [
    {
     "data": {
      "text/html": [
       "<div>\n",
       "<style scoped>\n",
       "    .dataframe tbody tr th:only-of-type {\n",
       "        vertical-align: middle;\n",
       "    }\n",
       "\n",
       "    .dataframe tbody tr th {\n",
       "        vertical-align: top;\n",
       "    }\n",
       "\n",
       "    .dataframe thead th {\n",
       "        text-align: right;\n",
       "    }\n",
       "</style>\n",
       "<table border=\"1\" class=\"dataframe\">\n",
       "  <thead>\n",
       "    <tr style=\"text-align: right;\">\n",
       "      <th></th>\n",
       "      <th>Unnamed: 0</th>\n",
       "      <th>id</th>\n",
       "      <th>weight</th>\n",
       "      <th>height</th>\n",
       "      <th>sex</th>\n",
       "      <th>BMI</th>\n",
       "      <th>side_image_features</th>\n",
       "      <th>front_features</th>\n",
       "    </tr>\n",
       "  </thead>\n",
       "  <tbody>\n",
       "    <tr>\n",
       "      <th>0</th>\n",
       "      <td>0</td>\n",
       "      <td>A00147</td>\n",
       "      <td>185.0</td>\n",
       "      <td>67.0</td>\n",
       "      <td>Male</td>\n",
       "      <td>28.971931</td>\n",
       "      <td>[0.2285692  0.04150921 0.09596376 ... 0.137926...</td>\n",
       "      <td>[0.24958876 0.04899818 0.08260317 ... 0.210071...</td>\n",
       "    </tr>\n",
       "    <tr>\n",
       "      <th>2</th>\n",
       "      <td>2</td>\n",
       "      <td>A00360</td>\n",
       "      <td>167.0</td>\n",
       "      <td>69.0</td>\n",
       "      <td>Male</td>\n",
       "      <td>24.658895</td>\n",
       "      <td>[0.23262199 0.10198318 0.06991925 ... 0.133563...</td>\n",
       "      <td>[0.23300944 0.07099213 0.23300944 ... 0.180476...</td>\n",
       "    </tr>\n",
       "    <tr>\n",
       "      <th>3</th>\n",
       "      <td>3</td>\n",
       "      <td>A00367</td>\n",
       "      <td>245.0</td>\n",
       "      <td>72.0</td>\n",
       "      <td>Male</td>\n",
       "      <td>33.224344</td>\n",
       "      <td>[0.19465187 0.11052029 0.06091761 ... 0.025494...</td>\n",
       "      <td>[0.18922559 0.12255136 0.06751266 ... 0.027727...</td>\n",
       "    </tr>\n",
       "    <tr>\n",
       "      <th>4</th>\n",
       "      <td>4</td>\n",
       "      <td>A01054</td>\n",
       "      <td>166.0</td>\n",
       "      <td>67.0</td>\n",
       "      <td>Male</td>\n",
       "      <td>25.996436</td>\n",
       "      <td>[0.24357151 0.21394402 0.24357151 ... 0.081949...</td>\n",
       "      <td>[0.23623272 0.20830895 0.18085204 ... 0.033488...</td>\n",
       "    </tr>\n",
       "    <tr>\n",
       "      <th>5</th>\n",
       "      <td>5</td>\n",
       "      <td>A01072</td>\n",
       "      <td>195.0</td>\n",
       "      <td>69.0</td>\n",
       "      <td>Male</td>\n",
       "      <td>28.793321</td>\n",
       "      <td>[0.22986225 0.18055656 0.16541323 ... 0.070623...</td>\n",
       "      <td>[0.22579775 0.21888761 0.17438851 ... 0.220046...</td>\n",
       "    </tr>\n",
       "  </tbody>\n",
       "</table>\n",
       "</div>"
      ],
      "text/plain": [
       "   Unnamed: 0      id  weight  height   sex        BMI  \\\n",
       "0           0  A00147   185.0    67.0  Male  28.971931   \n",
       "2           2  A00360   167.0    69.0  Male  24.658895   \n",
       "3           3  A00367   245.0    72.0  Male  33.224344   \n",
       "4           4  A01054   166.0    67.0  Male  25.996436   \n",
       "5           5  A01072   195.0    69.0  Male  28.793321   \n",
       "\n",
       "                                 side_image_features  \\\n",
       "0  [0.2285692  0.04150921 0.09596376 ... 0.137926...   \n",
       "2  [0.23262199 0.10198318 0.06991925 ... 0.133563...   \n",
       "3  [0.19465187 0.11052029 0.06091761 ... 0.025494...   \n",
       "4  [0.24357151 0.21394402 0.24357151 ... 0.081949...   \n",
       "5  [0.22986225 0.18055656 0.16541323 ... 0.070623...   \n",
       "\n",
       "                                      front_features  \n",
       "0  [0.24958876 0.04899818 0.08260317 ... 0.210071...  \n",
       "2  [0.23300944 0.07099213 0.23300944 ... 0.180476...  \n",
       "3  [0.18922559 0.12255136 0.06751266 ... 0.027727...  \n",
       "4  [0.23623272 0.20830895 0.18085204 ... 0.033488...  \n",
       "5  [0.22579775 0.21888761 0.17438851 ... 0.220046...  "
      ]
     },
     "execution_count": 9,
     "metadata": {},
     "output_type": "execute_result"
    }
   ],
   "source": [
    "data = pd.read_csv(\"updated_file.csv\")\n",
    "data = data.dropna()\n",
    "data.head()"
   ]
  },
  {
   "cell_type": "code",
   "execution_count": 10,
   "id": "75fd216d-e846-4ca8-878f-714d913264a7",
   "metadata": {},
   "outputs": [],
   "source": [
    "def string_to_array(string):\n",
    "    cleaned_string = string.replace(\"[\", \"\").replace(\"]\", \"\").replace(\"...\", \"\")\n",
    "    string_elements = cleaned_string.split()\n",
    "    return np.array(string_elements, dtype=float)\n",
    "\n",
    "# Apply the function to the column\n",
    "data[\"front_features\"] = data[\"front_features\"].apply(string_to_array)\n",
    "data[\"side_image_features\"] = data[\"side_image_features\"].apply(string_to_array)\n"
   ]
  },
  {
   "cell_type": "code",
   "execution_count": 11,
   "id": "5ed87a70-dace-4fd4-b115-df26ea28dbaa",
   "metadata": {},
   "outputs": [],
   "source": [
    "data[\"label\"] = data[\"sex\"].apply(lambda x: 1 if x.lower() == \"male\" else 0)"
   ]
  },
  {
   "cell_type": "code",
   "execution_count": 12,
   "id": "fe778ae7-4dd2-4961-a8dd-982e5e6c6eea",
   "metadata": {},
   "outputs": [
    {
     "name": "stdout",
     "output_type": "stream",
     "text": [
      "Number of males: 56353\n",
      "Number of females: 3649\n"
     ]
    }
   ],
   "source": [
    "counts = data[\"label\"].value_counts()\n",
    "print(f\"Number of males: {counts[1]}\")\n",
    "print(f\"Number of females: {counts[0]}\")"
   ]
  },
  {
   "cell_type": "code",
   "execution_count": 13,
   "id": "bcb84ae3-a831-4559-a46e-3af3c6aa87a2",
   "metadata": {},
   "outputs": [],
   "source": [
    "features = np.array([np.concatenate([f, s]) for f, s in zip(data[\"front_features\"], data[\"side_image_features\"])])\n",
    "target = data[\"label\"].values"
   ]
  },
  {
   "cell_type": "code",
   "execution_count": 14,
   "id": "19563511-b76b-42c3-8f27-8aacfe29ee62",
   "metadata": {},
   "outputs": [],
   "source": [
    "mean = features.mean(axis=0)\n",
    "std = features.std(axis=0)\n",
    "features_standardized = (features - mean) / std"
   ]
  },
  {
   "cell_type": "code",
   "execution_count": 15,
   "id": "5b6631af-59b6-483a-a41b-b0d4b2d09b5b",
   "metadata": {},
   "outputs": [],
   "source": [
    "X_train, X_test, y_train, y_test = train_test_split(features_standardized, target, test_size=0.2, random_state=42)"
   ]
  },
  {
   "cell_type": "code",
   "execution_count": 16,
   "id": "f77d51a6-a1fb-456d-8863-8727a41d1644",
   "metadata": {},
   "outputs": [
    {
     "name": "stdout",
     "output_type": "stream",
     "text": [
      "Progress: 1000/12001 test points processed.\n",
      "Progress: 2000/12001 test points processed.\n",
      "Progress: 3000/12001 test points processed.\n",
      "Progress: 4000/12001 test points processed.\n",
      "Progress: 5000/12001 test points processed.\n",
      "Progress: 6000/12001 test points processed.\n",
      "Progress: 7000/12001 test points processed.\n",
      "Progress: 8000/12001 test points processed.\n",
      "Progress: 9000/12001 test points processed.\n",
      "Progress: 10000/12001 test points processed.\n",
      "Progress: 11000/12001 test points processed.\n",
      "Progress: 12000/12001 test points processed.\n"
     ]
    }
   ],
   "source": [
    "def knn_predict(X_train, y_train, X_test, k):\n",
    "    predictions = []\n",
    "    for idx, test_point in enumerate(X_test):\n",
    "        # Compute distances from the test point to all training points\n",
    "        distances = np.sqrt(np.sum((X_train - test_point) ** 2, axis=1))\n",
    "        \n",
    "        # Get indices of the k-nearest neighbors\n",
    "        nearest_indices = np.argsort(distances)[:k]\n",
    "        \n",
    "        # Predict by averaging the target values of the k-nearest neighbors\n",
    "        nearest_targets = y_train[nearest_indices]\n",
    "        prediction = np.mean(nearest_targets)\n",
    "        predictions.append(prediction)\n",
    "\n",
    "        # Track progress every 10 iterations\n",
    "        if (idx + 1) % 1000 == 0:\n",
    "            print(f\"Progress: {idx + 1}/{len(X_test)} test points processed.\")\n",
    "    \n",
    "    return np.array(predictions)\n",
    "\n",
    "k = 2\n",
    "y_pred = knn_predict(X_train, y_train, X_test, k)"
   ]
  },
  {
   "cell_type": "code",
   "execution_count": 17,
   "id": "40ae01ae-effb-4333-89ad-96fdab09d42e",
   "metadata": {},
   "outputs": [
    {
     "name": "stdout",
     "output_type": "stream",
     "text": [
      "Mean Absolute Error (MAE): 0.10532455628697608\n",
      "Mean Squared Error (MSE): 0.07941004916256979\n",
      "R² Score: -0.38648085298078283\n",
      "Pearson Correlation Coefficient: 0.08284676387873456\n"
     ]
    }
   ],
   "source": [
    "from sklearn.metrics import mean_absolute_error, mean_squared_error, r2_score\n",
    "from scipy.stats import pearsonr\n",
    "\n",
    "# Compute Mean Absolute Error (MAE)\n",
    "mae = mean_absolute_error(y_test, y_pred)\n",
    "print(f\"Mean Absolute Error (MAE): {mae}\")\n",
    "\n",
    "# Compute Mean Squared Error (MSE)\n",
    "mse = mean_squared_error(y_test, y_pred)\n",
    "print(f\"Mean Squared Error (MSE): {mse}\")\n",
    "\n",
    "# Compute R² Score\n",
    "r2 = r2_score(y_test, y_pred)\n",
    "print(f\"R² Score: {r2}\")\n",
    "\n",
    "# Compute Pearson Correlation Coefficient\n",
    "pearson_corr, _ = pearsonr(y_test, y_pred)\n",
    "print(f\"Pearson Correlation Coefficient: {pearson_corr}\")\n"
   ]
  },
  {
   "cell_type": "code",
   "execution_count": null,
   "id": "2a89b16c-f573-4a77-bcbb-d055fe792152",
   "metadata": {},
   "outputs": [],
   "source": []
  }
 ],
 "metadata": {
  "kernelspec": {
   "display_name": "Python 3 (ipykernel)",
   "language": "python",
   "name": "python3"
  },
  "language_info": {
   "codemirror_mode": {
    "name": "ipython",
    "version": 3
   },
   "file_extension": ".py",
   "mimetype": "text/x-python",
   "name": "python",
   "nbconvert_exporter": "python",
   "pygments_lexer": "ipython3",
   "version": "3.13.0"
  }
 },
 "nbformat": 4,
 "nbformat_minor": 5
}
