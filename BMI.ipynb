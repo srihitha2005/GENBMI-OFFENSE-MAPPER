{
 "cells": [
  {
   "cell_type": "code",
   "execution_count": 1,
   "id": "64ebc381-371e-439a-9922-3ed522b33e37",
   "metadata": {},
   "outputs": [],
   "source": [
    "import pandas as pd\n",
    "import numpy as np\n",
    "from sklearn.metrics import mean_squared_error\n",
    "from sklearn.model_selection import train_test_split\n",
    "import ast"
   ]
  },
  {
   "cell_type": "code",
   "execution_count": 2,
   "id": "55a7c1d9-e143-473e-8bc2-265a01167979",
   "metadata": {},
   "outputs": [
    {
     "data": {
      "text/html": [
       "<div>\n",
       "<style scoped>\n",
       "    .dataframe tbody tr th:only-of-type {\n",
       "        vertical-align: middle;\n",
       "    }\n",
       "\n",
       "    .dataframe tbody tr th {\n",
       "        vertical-align: top;\n",
       "    }\n",
       "\n",
       "    .dataframe thead th {\n",
       "        text-align: right;\n",
       "    }\n",
       "</style>\n",
       "<table border=\"1\" class=\"dataframe\">\n",
       "  <thead>\n",
       "    <tr style=\"text-align: right;\">\n",
       "      <th></th>\n",
       "      <th>Unnamed: 0</th>\n",
       "      <th>id</th>\n",
       "      <th>weight</th>\n",
       "      <th>height</th>\n",
       "      <th>sex</th>\n",
       "      <th>BMI</th>\n",
       "      <th>side_image_features</th>\n",
       "      <th>front_features</th>\n",
       "    </tr>\n",
       "  </thead>\n",
       "  <tbody>\n",
       "    <tr>\n",
       "      <th>0</th>\n",
       "      <td>0</td>\n",
       "      <td>A00147</td>\n",
       "      <td>185.0</td>\n",
       "      <td>67.0</td>\n",
       "      <td>Male</td>\n",
       "      <td>28.971931</td>\n",
       "      <td>[0.2285692  0.04150921 0.09596376 ... 0.137926...</td>\n",
       "      <td>[0.24958876 0.04899818 0.08260317 ... 0.210071...</td>\n",
       "    </tr>\n",
       "    <tr>\n",
       "      <th>2</th>\n",
       "      <td>2</td>\n",
       "      <td>A00360</td>\n",
       "      <td>167.0</td>\n",
       "      <td>69.0</td>\n",
       "      <td>Male</td>\n",
       "      <td>24.658895</td>\n",
       "      <td>[0.23262199 0.10198318 0.06991925 ... 0.133563...</td>\n",
       "      <td>[0.23300944 0.07099213 0.23300944 ... 0.180476...</td>\n",
       "    </tr>\n",
       "    <tr>\n",
       "      <th>3</th>\n",
       "      <td>3</td>\n",
       "      <td>A00367</td>\n",
       "      <td>245.0</td>\n",
       "      <td>72.0</td>\n",
       "      <td>Male</td>\n",
       "      <td>33.224344</td>\n",
       "      <td>[0.19465187 0.11052029 0.06091761 ... 0.025494...</td>\n",
       "      <td>[0.18922559 0.12255136 0.06751266 ... 0.027727...</td>\n",
       "    </tr>\n",
       "    <tr>\n",
       "      <th>4</th>\n",
       "      <td>4</td>\n",
       "      <td>A01054</td>\n",
       "      <td>166.0</td>\n",
       "      <td>67.0</td>\n",
       "      <td>Male</td>\n",
       "      <td>25.996436</td>\n",
       "      <td>[0.24357151 0.21394402 0.24357151 ... 0.081949...</td>\n",
       "      <td>[0.23623272 0.20830895 0.18085204 ... 0.033488...</td>\n",
       "    </tr>\n",
       "    <tr>\n",
       "      <th>5</th>\n",
       "      <td>5</td>\n",
       "      <td>A01072</td>\n",
       "      <td>195.0</td>\n",
       "      <td>69.0</td>\n",
       "      <td>Male</td>\n",
       "      <td>28.793321</td>\n",
       "      <td>[0.22986225 0.18055656 0.16541323 ... 0.070623...</td>\n",
       "      <td>[0.22579775 0.21888761 0.17438851 ... 0.220046...</td>\n",
       "    </tr>\n",
       "  </tbody>\n",
       "</table>\n",
       "</div>"
      ],
      "text/plain": [
       "   Unnamed: 0      id  weight  height   sex        BMI  \\\n",
       "0           0  A00147   185.0    67.0  Male  28.971931   \n",
       "2           2  A00360   167.0    69.0  Male  24.658895   \n",
       "3           3  A00367   245.0    72.0  Male  33.224344   \n",
       "4           4  A01054   166.0    67.0  Male  25.996436   \n",
       "5           5  A01072   195.0    69.0  Male  28.793321   \n",
       "\n",
       "                                 side_image_features  \\\n",
       "0  [0.2285692  0.04150921 0.09596376 ... 0.137926...   \n",
       "2  [0.23262199 0.10198318 0.06991925 ... 0.133563...   \n",
       "3  [0.19465187 0.11052029 0.06091761 ... 0.025494...   \n",
       "4  [0.24357151 0.21394402 0.24357151 ... 0.081949...   \n",
       "5  [0.22986225 0.18055656 0.16541323 ... 0.070623...   \n",
       "\n",
       "                                      front_features  \n",
       "0  [0.24958876 0.04899818 0.08260317 ... 0.210071...  \n",
       "2  [0.23300944 0.07099213 0.23300944 ... 0.180476...  \n",
       "3  [0.18922559 0.12255136 0.06751266 ... 0.027727...  \n",
       "4  [0.23623272 0.20830895 0.18085204 ... 0.033488...  \n",
       "5  [0.22579775 0.21888761 0.17438851 ... 0.220046...  "
      ]
     },
     "execution_count": 2,
     "metadata": {},
     "output_type": "execute_result"
    }
   ],
   "source": [
    "data = pd.read_csv(\"updated_file.csv\")\n",
    "data = data.dropna()\n",
    "data.head()"
   ]
  },
  {
   "cell_type": "code",
   "execution_count": 3,
   "id": "30d4ccf1-2198-40b2-afbd-b89c4bf8cdad",
   "metadata": {},
   "outputs": [],
   "source": [
    "def string_to_array(string):\n",
    "    cleaned_string = string.replace(\"[\", \"\").replace(\"]\", \"\").replace(\"...\", \"\")\n",
    "    string_elements = cleaned_string.split()\n",
    "    return np.array(string_elements, dtype=float)\n",
    "\n",
    "# Apply the function to the column\n",
    "data[\"front_features\"] = data[\"front_features\"].apply(string_to_array)\n",
    "data[\"side_image_features\"] = data[\"side_image_features\"].apply(string_to_array)\n"
   ]
  },
  {
   "cell_type": "code",
   "execution_count": 4,
   "id": "352b9745-47f2-481a-b305-0f89f612f5b7",
   "metadata": {},
   "outputs": [
    {
     "data": {
      "text/plain": [
       "60002"
      ]
     },
     "execution_count": 4,
     "metadata": {},
     "output_type": "execute_result"
    }
   ],
   "source": [
    "data[\"front_features\"].size"
   ]
  },
  {
   "cell_type": "code",
   "execution_count": 5,
   "id": "b095ea3a-4fca-4f5b-866f-9b7f618d6745",
   "metadata": {},
   "outputs": [
    {
     "name": "stdout",
     "output_type": "stream",
     "text": [
      "6\n"
     ]
    }
   ],
   "source": [
    "for i in data[\"front_features\"]:\n",
    "    print(i.size)\n",
    "    break"
   ]
  },
  {
   "cell_type": "code",
   "execution_count": 6,
   "id": "5a1baaf3-d3df-403d-887e-d6b10a221c4d",
   "metadata": {},
   "outputs": [
    {
     "name": "stdout",
     "output_type": "stream",
     "text": [
      "6\n"
     ]
    }
   ],
   "source": [
    "for i in data[\"side_image_features\"]:\n",
    "    print(i.size)\n",
    "    break"
   ]
  },
  {
   "cell_type": "code",
   "execution_count": 7,
   "id": "08fc59de-b008-43d7-8771-e53fa576a2d8",
   "metadata": {},
   "outputs": [],
   "source": [
    "features = data[[\"front_features\", \"side_image_features\"]].values\n",
    "target = data[\"BMI\"].values\n"
   ]
  },
  {
   "cell_type": "code",
   "execution_count": 8,
   "id": "fd515b03-339e-47b9-aab2-a682928b8f62",
   "metadata": {},
   "outputs": [],
   "source": [
    "features = np.array([np.concatenate([f, s]) for f, s in zip(data[\"front_features\"], data[\"side_image_features\"])])"
   ]
  },
  {
   "cell_type": "code",
   "execution_count": 9,
   "id": "1f8bdae0-e194-4d42-8893-e4e9c0ff2d85",
   "metadata": {},
   "outputs": [],
   "source": [
    "mean = features.mean(axis=0)\n",
    "std = features.std(axis=0)\n"
   ]
  },
  {
   "cell_type": "code",
   "execution_count": 10,
   "id": "2d0da167-b96b-45fa-bff1-73953398ceff",
   "metadata": {},
   "outputs": [],
   "source": [
    "features_standardized = (features - mean) / std"
   ]
  },
  {
   "cell_type": "code",
   "execution_count": 11,
   "id": "afbb111a-14f1-42e8-915b-a0b90acb62b9",
   "metadata": {},
   "outputs": [],
   "source": [
    "X_train, X_test, y_train, y_test = train_test_split(features_standardized, target, test_size=0.2, random_state=42)\n"
   ]
  },
  {
   "cell_type": "code",
   "execution_count": 12,
   "id": "c7faaa2c-d96b-4984-b2c5-f6963032d022",
   "metadata": {},
   "outputs": [
    {
     "name": "stdout",
     "output_type": "stream",
     "text": [
      "SVR predictions completed.\n"
     ]
    }
   ],
   "source": [
    "from sklearn.svm import SVR\n",
    "from sklearn.preprocessing import StandardScaler\n",
    "import numpy as np\n",
    "\n",
    "# Scale the data for better SVM performance\n",
    "scaler = StandardScaler()\n",
    "X_train_scaled = scaler.fit_transform(X_train)\n",
    "X_test_scaled = scaler.transform(X_test)\n",
    "\n",
    "svr = SVR(kernel='rbf', C=1.0, epsilon=0.1)\n",
    "\n",
    "svr.fit(X_train_scaled, y_train)\n",
    "\n",
    "y_pred = svr.predict(X_test_scaled)\n",
    "print(\"SVR predictions completed.\")"
   ]
  },
  {
   "cell_type": "code",
   "execution_count": 10,
   "id": "7fb862e1-27d1-4e77-96c6-6c6088b94c0c",
   "metadata": {},
   "outputs": [
    {
     "data": {
      "text/plain": [
       "'from sklearn.neighbors import KNeighborsRegressor\\n\\n# Initialize the K-Nearest Neighbors Regressor\\nknn = KNeighborsRegressor(n_neighbors=50)  # You can change n_neighbors to your desired k value\\n\\n# Fit the model on the training data\\nknn.fit(X_train, y_train)\\n\\n# Make predictions on the test set\\ny_pred = knn.predict(X_test)'"
      ]
     },
     "execution_count": 10,
     "metadata": {},
     "output_type": "execute_result"
    }
   ],
   "source": [
    "\"\"\"from sklearn.neighbors import KNeighborsRegressor\n",
    "\n",
    "# Initialize the K-Nearest Neighbors Regressor\n",
    "knn = KNeighborsRegressor(n_neighbors=50)  # You can change n_neighbors to your desired k value\n",
    "\n",
    "# Fit the model on the training data\n",
    "knn.fit(X_train, y_train)\n",
    "\n",
    "# Make predictions on the test set\n",
    "y_pred = knn.predict(X_test)\"\"\""
   ]
  },
  {
   "cell_type": "code",
   "execution_count": 13,
   "id": "3058aa68-f926-45cf-9ba6-36fdccaa15b7",
   "metadata": {},
   "outputs": [
    {
     "name": "stdout",
     "output_type": "stream",
     "text": [
      "Mean Absolute Error (MAE): 3.9492363597456004\n",
      "Mean Squared Error (MSE): 27.79150547861121\n",
      "R² Score: -0.013840863022314798\n",
      "Pearson Correlation Coefficient: 0.09611052984010311\n"
     ]
    }
   ],
   "source": [
    "from sklearn.metrics import mean_absolute_error, mean_squared_error, r2_score\n",
    "from scipy.stats import pearsonr\n",
    "\n",
    "# Compute Mean Absolute Error (MAE)\n",
    "mae = mean_absolute_error(y_test, y_pred)\n",
    "print(f\"Mean Absolute Error (MAE): {mae}\")\n",
    "\n",
    "# Compute Mean Squared Error (MSE)\n",
    "mse = mean_squared_error(y_test, y_pred)\n",
    "print(f\"Mean Squared Error (MSE): {mse}\")\n",
    "\n",
    "# Compute R² Score\n",
    "r2 = r2_score(y_test, y_pred)\n",
    "print(f\"R² Score: {r2}\")\n",
    "\n",
    "# Compute Pearson Correlation Coefficient\n",
    "pearson_corr, _ = pearsonr(y_test, y_pred)\n",
    "print(f\"Pearson Correlation Coefficient: {pearson_corr}\")\n"
   ]
  },
  {
   "cell_type": "code",
   "execution_count": 14,
   "id": "3d589f0e-5394-4914-ba76-7ac24efb2878",
   "metadata": {},
   "outputs": [],
   "source": [
    "class Perceptron:\n",
    "    def __init__(self, learning_rate=0.01, max_iter=1000):\n",
    "        self.learning_rate = learning_rate\n",
    "        self.max_iter = max_iter\n",
    "        self.weights = None\n",
    "        self.bias = 0\n",
    "\n",
    "    def fit(self, X, y):\n",
    "        num_samples, num_features = X.shape\n",
    "        # Initialize weights with zeros\n",
    "        self.weights = np.zeros(num_features)\n",
    "\n",
    "        # Training the Perceptron for the specified number of iterations\n",
    "        for _ in range(self.max_iter):\n",
    "            for i in range(num_samples):\n",
    "                # Calculate the linear combination\n",
    "                linear_output = np.dot(X[i], self.weights) + self.bias\n",
    "                # Apply the step activation function\n",
    "                prediction = 1 if linear_output >= 0 else 0\n",
    "                # Update weights if the prediction is incorrect\n",
    "                if prediction != y[i]:\n",
    "                    update = self.learning_rate * (y[i] - prediction)\n",
    "                    self.weights += update * X[i]\n",
    "                    self.bias += update\n",
    "\n",
    "    def predict(self, X):\n",
    "        linear_output = np.dot(X, self.weights) + self.bias\n",
    "        return np.where(linear_output >= 0, 1, 0)\n",
    "\n",
    "perceptron = Perceptron(learning_rate=0.01, max_iter=1000)\n",
    "perceptron.fit(X_train, y_train)\n",
    "\n",
    "y_pred = perceptron.predict(X_test)"
   ]
  },
  {
   "cell_type": "code",
   "execution_count": 15,
   "id": "57e7f160-d3cb-4c4f-aa3f-f6c1f3edadfc",
   "metadata": {},
   "outputs": [
    {
     "name": "stdout",
     "output_type": "stream",
     "text": [
      "Mean Absolute Error (MAE): 26.905892863772557\n",
      "Mean Squared Error (MSE): 751.3391691765895\n",
      "R² Score: -26.40903519194772\n",
      "Pearson Correlation Coefficient: nan\n"
     ]
    },
    {
     "name": "stderr",
     "output_type": "stream",
     "text": [
      "C:\\Users\\srihitha pulapa\\AppData\\Local\\Temp\\ipykernel_19152\\3267431345.py:17: ConstantInputWarning: An input array is constant; the correlation coefficient is not defined.\n",
      "  pearson_corr, _ = pearsonr(y_test, y_pred)\n"
     ]
    }
   ],
   "source": [
    "from sklearn.metrics import mean_absolute_error, mean_squared_error, r2_score\n",
    "from scipy.stats import pearsonr\n",
    "\n",
    "# Compute Mean Absolute Error (MAE)\n",
    "mae = mean_absolute_error(y_test, y_pred)\n",
    "print(f\"Mean Absolute Error (MAE): {mae}\")\n",
    "\n",
    "# Compute Mean Squared Error (MSE)\n",
    "mse = mean_squared_error(y_test, y_pred)\n",
    "print(f\"Mean Squared Error (MSE): {mse}\")\n",
    "\n",
    "# Compute R² Score\n",
    "r2 = r2_score(y_test, y_pred)\n",
    "print(f\"R² Score: {r2}\")\n",
    "\n",
    "# Compute Pearson Correlation Coefficient\n",
    "pearson_corr, _ = pearsonr(y_test, y_pred)\n",
    "print(f\"Pearson Correlation Coefficient: {pearson_corr}\")\n"
   ]
  },
  {
   "cell_type": "code",
   "execution_count": null,
   "id": "b1d9e977-7fa2-4710-9d7b-02c6d9c86a14",
   "metadata": {},
   "outputs": [],
   "source": []
  }
 ],
 "metadata": {
  "kernelspec": {
   "display_name": "Python 3 (ipykernel)",
   "language": "python",
   "name": "python3"
  },
  "language_info": {
   "codemirror_mode": {
    "name": "ipython",
    "version": 3
   },
   "file_extension": ".py",
   "mimetype": "text/x-python",
   "name": "python",
   "nbconvert_exporter": "python",
   "pygments_lexer": "ipython3",
   "version": "3.13.0"
  }
 },
 "nbformat": 4,
 "nbformat_minor": 5
}
